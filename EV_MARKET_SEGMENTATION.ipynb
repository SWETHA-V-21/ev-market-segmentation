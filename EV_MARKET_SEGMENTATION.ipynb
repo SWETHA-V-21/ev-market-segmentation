{
 "cells": [
  {
   "cell_type": "markdown",
   "id": "961dd2bc-780e-4651-93d5-1ad57b541fed",
   "metadata": {},
   "source": [
    "# EV MARKET SEGMENTATION \n",
    "\n",
    "# STEP – 1 OBJECTIVE \n",
    "# The objective of this study is to identify the most feasible type of Electric Vehicle (EV) to produce (e.g., scooter, bike, sedan) based on market demand, user demographics, regional trends, and EV adoption patterns in India using market segmentation techniques.\n",
    "\n",
    "# STEP – 2 DATA COLLECTION\n",
    "# To analyze the Indian Electric Vehicle (EV) market and determine the most suitable type of EV to manufacture, we collected a dataset titled “EV_Dataset.csv”. This dataset provides detailed records of electric vehicle sales across Indian states, segmented by:\n",
    "# •\tState\n",
    "# •\tVehicle Class (e.g., Two-Wheeler, Three-Wheeler, Four-Wheeler, Bus, etc.)\n",
    "# •\tVehicle Type\n",
    "# •\tFuel Type (to filter only Electric vehicles)\n",
    "# •\tQuantity of Registered Vehicles\n",
    "# •\tMonth and Year of Registration\n",
    "\n",
    "# Step 3: Load and Preprocess the Dataset\n",
    "\n",
    "# 3.1: Load the Dataset\n",
    "\n"
   ]
  },
  {
   "cell_type": "code",
   "execution_count": 1,
   "id": "48ee7669-95f8-444b-bf8d-95800575ba67",
   "metadata": {},
   "outputs": [
    {
     "data": {
      "text/html": [
       "<div>\n",
       "<style scoped>\n",
       "    .dataframe tbody tr th:only-of-type {\n",
       "        vertical-align: middle;\n",
       "    }\n",
       "\n",
       "    .dataframe tbody tr th {\n",
       "        vertical-align: top;\n",
       "    }\n",
       "\n",
       "    .dataframe thead th {\n",
       "        text-align: right;\n",
       "    }\n",
       "</style>\n",
       "<table border=\"1\" class=\"dataframe\">\n",
       "  <thead>\n",
       "    <tr style=\"text-align: right;\">\n",
       "      <th></th>\n",
       "      <th>Year</th>\n",
       "      <th>Month_Name</th>\n",
       "      <th>Date</th>\n",
       "      <th>State</th>\n",
       "      <th>Vehicle_Class</th>\n",
       "      <th>Vehicle_Category</th>\n",
       "      <th>Vehicle_Type</th>\n",
       "      <th>EV_Sales_Quantity</th>\n",
       "    </tr>\n",
       "  </thead>\n",
       "  <tbody>\n",
       "    <tr>\n",
       "      <th>0</th>\n",
       "      <td>2014.0</td>\n",
       "      <td>jan</td>\n",
       "      <td>1/1/2014</td>\n",
       "      <td>Andhra Pradesh</td>\n",
       "      <td>ADAPTED VEHICLE</td>\n",
       "      <td>Others</td>\n",
       "      <td>Others</td>\n",
       "      <td>0.0</td>\n",
       "    </tr>\n",
       "    <tr>\n",
       "      <th>1</th>\n",
       "      <td>2014.0</td>\n",
       "      <td>jan</td>\n",
       "      <td>1/1/2014</td>\n",
       "      <td>Andhra Pradesh</td>\n",
       "      <td>AGRICULTURAL TRACTOR</td>\n",
       "      <td>Others</td>\n",
       "      <td>Others</td>\n",
       "      <td>0.0</td>\n",
       "    </tr>\n",
       "    <tr>\n",
       "      <th>2</th>\n",
       "      <td>2014.0</td>\n",
       "      <td>jan</td>\n",
       "      <td>1/1/2014</td>\n",
       "      <td>Andhra Pradesh</td>\n",
       "      <td>AMBULANCE</td>\n",
       "      <td>Others</td>\n",
       "      <td>Others</td>\n",
       "      <td>0.0</td>\n",
       "    </tr>\n",
       "    <tr>\n",
       "      <th>3</th>\n",
       "      <td>2014.0</td>\n",
       "      <td>jan</td>\n",
       "      <td>1/1/2014</td>\n",
       "      <td>Andhra Pradesh</td>\n",
       "      <td>ARTICULATED VEHICLE</td>\n",
       "      <td>Others</td>\n",
       "      <td>Others</td>\n",
       "      <td>0.0</td>\n",
       "    </tr>\n",
       "    <tr>\n",
       "      <th>4</th>\n",
       "      <td>2014.0</td>\n",
       "      <td>jan</td>\n",
       "      <td>1/1/2014</td>\n",
       "      <td>Andhra Pradesh</td>\n",
       "      <td>BUS</td>\n",
       "      <td>Bus</td>\n",
       "      <td>Bus</td>\n",
       "      <td>0.0</td>\n",
       "    </tr>\n",
       "  </tbody>\n",
       "</table>\n",
       "</div>"
      ],
      "text/plain": [
       "     Year Month_Name      Date           State         Vehicle_Class  \\\n",
       "0  2014.0        jan  1/1/2014  Andhra Pradesh       ADAPTED VEHICLE   \n",
       "1  2014.0        jan  1/1/2014  Andhra Pradesh  AGRICULTURAL TRACTOR   \n",
       "2  2014.0        jan  1/1/2014  Andhra Pradesh             AMBULANCE   \n",
       "3  2014.0        jan  1/1/2014  Andhra Pradesh   ARTICULATED VEHICLE   \n",
       "4  2014.0        jan  1/1/2014  Andhra Pradesh                   BUS   \n",
       "\n",
       "  Vehicle_Category Vehicle_Type  EV_Sales_Quantity  \n",
       "0           Others       Others                0.0  \n",
       "1           Others       Others                0.0  \n",
       "2           Others       Others                0.0  \n",
       "3           Others       Others                0.0  \n",
       "4              Bus          Bus                0.0  "
      ]
     },
     "execution_count": 1,
     "metadata": {},
     "output_type": "execute_result"
    }
   ],
   "source": [
    "import pandas as pd\n",
    "\n",
    "# Load the dataset\n",
    "df = pd.read_csv('EV_Dataset.csv')\n",
    "\n",
    "# Preview the first few rows\n",
    "df.head()\n"
   ]
  },
  {
   "cell_type": "markdown",
   "id": "38bc82e6-8613-4e30-a65d-ed4e745bcf9f",
   "metadata": {},
   "source": [
    "#  3.2 Check for Missing Values and Data Types"
   ]
  },
  {
   "cell_type": "code",
   "execution_count": 2,
   "id": "c04675d8-5a8b-45e7-8197-76465238a0a6",
   "metadata": {},
   "outputs": [
    {
     "name": "stdout",
     "output_type": "stream",
     "text": [
      "Column Names:\n",
      "Index(['Year', 'Month_Name', 'Date', 'State', 'Vehicle_Class',\n",
      "       'Vehicle_Category', 'Vehicle_Type', 'EV_Sales_Quantity'],\n",
      "      dtype='object')\n",
      "\n",
      "Info:\n",
      "<class 'pandas.core.frame.DataFrame'>\n",
      "RangeIndex: 96845 entries, 0 to 96844\n",
      "Data columns (total 8 columns):\n",
      " #   Column             Non-Null Count  Dtype  \n",
      "---  ------             --------------  -----  \n",
      " 0   Year               96845 non-null  float64\n",
      " 1   Month_Name         96845 non-null  object \n",
      " 2   Date               96845 non-null  object \n",
      " 3   State              96845 non-null  object \n",
      " 4   Vehicle_Class      96845 non-null  object \n",
      " 5   Vehicle_Category   96845 non-null  object \n",
      " 6   Vehicle_Type       96845 non-null  object \n",
      " 7   EV_Sales_Quantity  96845 non-null  float64\n",
      "dtypes: float64(2), object(6)\n",
      "memory usage: 5.9+ MB\n",
      "None\n",
      "\n",
      "Missing Values:\n",
      "Year                 0\n",
      "Month_Name           0\n",
      "Date                 0\n",
      "State                0\n",
      "Vehicle_Class        0\n",
      "Vehicle_Category     0\n",
      "Vehicle_Type         0\n",
      "EV_Sales_Quantity    0\n",
      "dtype: int64\n"
     ]
    }
   ],
   "source": [
    "# View all column names\n",
    "print(\"Column Names:\")\n",
    "print(df.columns)\n",
    "\n",
    "# Check data types and null values\n",
    "print(\"\\nInfo:\")\n",
    "print(df.info())\n",
    "\n",
    "# Check for missing values\n",
    "print(\"\\nMissing Values:\")\n",
    "print(df.isnull().sum())\n"
   ]
  },
  {
   "cell_type": "code",
   "execution_count": 3,
   "id": "e1e47862-94d8-4b36-af71-8ca5528e2355",
   "metadata": {},
   "outputs": [
    {
     "name": "stdout",
     "output_type": "stream",
     "text": [
      "<class 'pandas.core.frame.DataFrame'>\n",
      "RangeIndex: 96845 entries, 0 to 96844\n",
      "Data columns (total 8 columns):\n",
      " #   Column             Non-Null Count  Dtype  \n",
      "---  ------             --------------  -----  \n",
      " 0   Year               96845 non-null  float64\n",
      " 1   Month_Name         96845 non-null  object \n",
      " 2   Date               96845 non-null  object \n",
      " 3   State              96845 non-null  object \n",
      " 4   Vehicle_Class      96845 non-null  object \n",
      " 5   Vehicle_Category   96845 non-null  object \n",
      " 6   Vehicle_Type       96845 non-null  object \n",
      " 7   EV_Sales_Quantity  96845 non-null  float64\n",
      "dtypes: float64(2), object(6)\n",
      "memory usage: 5.9+ MB\n"
     ]
    },
    {
     "data": {
      "text/plain": [
       "Year                 0\n",
       "Month_Name           0\n",
       "Date                 0\n",
       "State                0\n",
       "Vehicle_Class        0\n",
       "Vehicle_Category     0\n",
       "Vehicle_Type         0\n",
       "EV_Sales_Quantity    0\n",
       "dtype: int64"
      ]
     },
     "execution_count": 3,
     "metadata": {},
     "output_type": "execute_result"
    }
   ],
   "source": [
    "df.info()\n",
    "df.isnull().sum()\n"
   ]
  },
  {
   "cell_type": "markdown",
   "id": "35401da8-3a28-4763-8e16-01f06ad721f7",
   "metadata": {},
   "source": [
    "#  3.3 Clean & Prepare Data"
   ]
  },
  {
   "cell_type": "code",
   "execution_count": 4,
   "id": "88a2997d-61c5-41da-9eef-6bf92b851b35",
   "metadata": {},
   "outputs": [
    {
     "data": {
      "text/html": [
       "<div>\n",
       "<style scoped>\n",
       "    .dataframe tbody tr th:only-of-type {\n",
       "        vertical-align: middle;\n",
       "    }\n",
       "\n",
       "    .dataframe tbody tr th {\n",
       "        vertical-align: top;\n",
       "    }\n",
       "\n",
       "    .dataframe thead th {\n",
       "        text-align: right;\n",
       "    }\n",
       "</style>\n",
       "<table border=\"1\" class=\"dataframe\">\n",
       "  <thead>\n",
       "    <tr style=\"text-align: right;\">\n",
       "      <th></th>\n",
       "      <th>State</th>\n",
       "      <th>Vehicle_Class</th>\n",
       "      <th>Vehicle_Type</th>\n",
       "      <th>EV_Sales_Quantity</th>\n",
       "    </tr>\n",
       "  </thead>\n",
       "  <tbody>\n",
       "    <tr>\n",
       "      <th>0</th>\n",
       "      <td>Andhra Pradesh</td>\n",
       "      <td>ADAPTED VEHICLE</td>\n",
       "      <td>Others</td>\n",
       "      <td>0.0</td>\n",
       "    </tr>\n",
       "    <tr>\n",
       "      <th>1</th>\n",
       "      <td>Andhra Pradesh</td>\n",
       "      <td>AGRICULTURAL TRACTOR</td>\n",
       "      <td>Others</td>\n",
       "      <td>0.0</td>\n",
       "    </tr>\n",
       "    <tr>\n",
       "      <th>2</th>\n",
       "      <td>Andhra Pradesh</td>\n",
       "      <td>AMBULANCE</td>\n",
       "      <td>Others</td>\n",
       "      <td>0.0</td>\n",
       "    </tr>\n",
       "    <tr>\n",
       "      <th>3</th>\n",
       "      <td>Andhra Pradesh</td>\n",
       "      <td>ARTICULATED VEHICLE</td>\n",
       "      <td>Others</td>\n",
       "      <td>0.0</td>\n",
       "    </tr>\n",
       "    <tr>\n",
       "      <th>4</th>\n",
       "      <td>Andhra Pradesh</td>\n",
       "      <td>BUS</td>\n",
       "      <td>Bus</td>\n",
       "      <td>0.0</td>\n",
       "    </tr>\n",
       "  </tbody>\n",
       "</table>\n",
       "</div>"
      ],
      "text/plain": [
       "            State         Vehicle_Class Vehicle_Type  EV_Sales_Quantity\n",
       "0  Andhra Pradesh       ADAPTED VEHICLE       Others                0.0\n",
       "1  Andhra Pradesh  AGRICULTURAL TRACTOR       Others                0.0\n",
       "2  Andhra Pradesh             AMBULANCE       Others                0.0\n",
       "3  Andhra Pradesh   ARTICULATED VEHICLE       Others                0.0\n",
       "4  Andhra Pradesh                   BUS          Bus                0.0"
      ]
     },
     "execution_count": 4,
     "metadata": {},
     "output_type": "execute_result"
    }
   ],
   "source": [
    "# Drop rows with missing EV_Sales_Quantity\n",
    "df_cleaned = df.dropna(subset=['EV_Sales_Quantity'])\n",
    "\n",
    "# Optional: drop unused columns if needed\n",
    "df_cleaned = df_cleaned[['State', 'Vehicle_Class', 'Vehicle_Type', 'EV_Sales_Quantity']]\n",
    "df_cleaned.head()\n"
   ]
  },
  {
   "cell_type": "markdown",
   "id": "57800b67-dc1e-475e-877b-93b8b4ba9670",
   "metadata": {},
   "source": [
    "# 3.4 Group by Vehicle Class to Check Popularity"
   ]
  },
  {
   "cell_type": "code",
   "execution_count": 5,
   "id": "a70ad044-03f9-4d20-aba3-f9ee48619a64",
   "metadata": {},
   "outputs": [
    {
     "name": "stdout",
     "output_type": "stream",
     "text": [
      "                Vehicle_Class  EV_Sales_Quantity\n",
      "31            M-CYCLE/SCOOTER          1697373.0\n",
      "18              E-RICKSHAW(P)          1408127.0\n",
      "40                  MOTOR CAR           130676.0\n",
      "17   E-RICKSHAW WITH CART (G)            90656.0\n",
      "59  THREE WHEELER (PASSENGER)            76132.0\n",
      "..                        ...                ...\n",
      "48               POWER TILLER                0.0\n",
      "28                    HEARSES                0.0\n",
      "29                LIBRARY VAN                0.0\n",
      "34             MOBILE CANTEEN                0.0\n",
      "36            MOBILE WORKSHOP                0.0\n",
      "\n",
      "[73 rows x 2 columns]\n"
     ]
    }
   ],
   "source": [
    "# Total EVs sold per Vehicle Class\n",
    "ev_by_class = df_cleaned.groupby('Vehicle_Class')['EV_Sales_Quantity'].sum().reset_index()\n",
    "ev_by_class = ev_by_class.sort_values(by='EV_Sales_Quantity', ascending=False)\n",
    "print(ev_by_class)\n"
   ]
  },
  {
   "cell_type": "markdown",
   "id": "49116612-dfa6-4d54-800a-6b2b3d835b4c",
   "metadata": {},
   "source": [
    "# INSIGHTS : We grouped the data by Vehicle_Class to identify the top-selling EV categories.\n",
    "# Top performers:\n",
    "# M-Cycle/Scooter: ~17 lakh units\n",
    "# E-Rickshaw (Passenger): ~14 lakh units\n",
    "# Motor Car: ~1.3 lakh units\n"
   ]
  },
  {
   "cell_type": "markdown",
   "id": "7c809cdd-af88-4afe-8c51-c344b920fda8",
   "metadata": {},
   "source": [
    "# 3.5 Group by State and Vehicle Class to Analyze Region-Wise Demand"
   ]
  },
  {
   "cell_type": "code",
   "execution_count": 6,
   "id": "67e3b9d5-5241-4755-95a2-9e66dc96b556",
   "metadata": {},
   "outputs": [
    {
     "data": {
      "text/html": [
       "<div>\n",
       "<style scoped>\n",
       "    .dataframe tbody tr th:only-of-type {\n",
       "        vertical-align: middle;\n",
       "    }\n",
       "\n",
       "    .dataframe tbody tr th {\n",
       "        vertical-align: top;\n",
       "    }\n",
       "\n",
       "    .dataframe thead th {\n",
       "        text-align: right;\n",
       "    }\n",
       "</style>\n",
       "<table border=\"1\" class=\"dataframe\">\n",
       "  <thead>\n",
       "    <tr style=\"text-align: right;\">\n",
       "      <th></th>\n",
       "      <th>State</th>\n",
       "      <th>Vehicle_Class</th>\n",
       "      <th>EV_Sales_Quantity</th>\n",
       "    </tr>\n",
       "  </thead>\n",
       "  <tbody>\n",
       "    <tr>\n",
       "      <th>0</th>\n",
       "      <td>Andaman &amp; Nicobar Island</td>\n",
       "      <td>ADAPTED VEHICLE</td>\n",
       "      <td>0.0</td>\n",
       "    </tr>\n",
       "    <tr>\n",
       "      <th>1</th>\n",
       "      <td>Andaman &amp; Nicobar Island</td>\n",
       "      <td>AGRICULTURAL TRACTOR</td>\n",
       "      <td>0.0</td>\n",
       "    </tr>\n",
       "    <tr>\n",
       "      <th>2</th>\n",
       "      <td>Andaman &amp; Nicobar Island</td>\n",
       "      <td>AMBULANCE</td>\n",
       "      <td>0.0</td>\n",
       "    </tr>\n",
       "    <tr>\n",
       "      <th>3</th>\n",
       "      <td>Andaman &amp; Nicobar Island</td>\n",
       "      <td>BUS</td>\n",
       "      <td>40.0</td>\n",
       "    </tr>\n",
       "    <tr>\n",
       "      <th>4</th>\n",
       "      <td>Andaman &amp; Nicobar Island</td>\n",
       "      <td>CONSTRUCTION EQUIPMENT VEHICLE</td>\n",
       "      <td>0.0</td>\n",
       "    </tr>\n",
       "  </tbody>\n",
       "</table>\n",
       "</div>"
      ],
      "text/plain": [
       "                      State                   Vehicle_Class  EV_Sales_Quantity\n",
       "0  Andaman & Nicobar Island                 ADAPTED VEHICLE                0.0\n",
       "1  Andaman & Nicobar Island            AGRICULTURAL TRACTOR                0.0\n",
       "2  Andaman & Nicobar Island                       AMBULANCE                0.0\n",
       "3  Andaman & Nicobar Island                             BUS               40.0\n",
       "4  Andaman & Nicobar Island  CONSTRUCTION EQUIPMENT VEHICLE                0.0"
      ]
     },
     "execution_count": 6,
     "metadata": {},
     "output_type": "execute_result"
    }
   ],
   "source": [
    "ev_by_state_class = df_cleaned.groupby(['State', 'Vehicle_Class'])['EV_Sales_Quantity'].sum().reset_index()\n",
    "ev_by_state_class.head()\n"
   ]
  },
  {
   "cell_type": "markdown",
   "id": "47d52d58-db7c-443e-8b3c-83bd2b4f042f",
   "metadata": {},
   "source": [
    "# INSIGHTS : We further grouped the data by both State and Vehicle_Class to create a multi-dimensional view of EV adoption across regions and categories. This grouped data serves as the input for market segmentation in the next step"
   ]
  },
  {
   "cell_type": "markdown",
   "id": "15e5bbda-4304-4180-9fc4-502b48375fca",
   "metadata": {},
   "source": [
    "#  Step 4: Market Segmentation using Clustering."
   ]
  },
  {
   "cell_type": "markdown",
   "id": "544718ab-16ed-4d14-9190-0b19dd3e3cb5",
   "metadata": {},
   "source": [
    "# Step 4.1: Prepare the Data for Clustering"
   ]
  },
  {
   "cell_type": "code",
   "execution_count": 7,
   "id": "587f5c11-ec27-48e3-a0fe-1a3b69e48dac",
   "metadata": {},
   "outputs": [],
   "source": [
    "import pandas as pd\n",
    "from sklearn.preprocessing import LabelEncoder\n",
    "\n",
    "# Assuming you already have this from Step 3.5\n",
    "# df_grouped = df.groupby(['State', 'Vehicle_Class'])['EV_Sales_Quantity'].sum().reset_index()\n",
    "\n",
    "# Create copies\n",
    "df_cluster = ev_by_state_class.copy()\n",
    "\n",
    "# Label encode State and Vehicle_Class\n",
    "le_state = LabelEncoder()\n",
    "le_class = LabelEncoder()\n",
    "\n",
    "df_cluster['State_Encoded'] = le_state.fit_transform(df_cluster['State'])\n",
    "df_cluster['Vehicle_Class_Encoded'] = le_class.fit_transform(df_cluster['Vehicle_Class'])\n"
   ]
  },
  {
   "cell_type": "markdown",
   "id": "4dabfb3e-d90e-4eca-8327-ccd3ec871ee1",
   "metadata": {},
   "source": [
    "# Step 4.2: Run KMeans Clustering"
   ]
  },
  {
   "cell_type": "code",
   "execution_count": 8,
   "id": "ab5bb5c9-a0c4-4cee-819e-240042db8bb1",
   "metadata": {},
   "outputs": [
    {
     "data": {
      "text/html": [
       "<div>\n",
       "<style scoped>\n",
       "    .dataframe tbody tr th:only-of-type {\n",
       "        vertical-align: middle;\n",
       "    }\n",
       "\n",
       "    .dataframe tbody tr th {\n",
       "        vertical-align: top;\n",
       "    }\n",
       "\n",
       "    .dataframe thead th {\n",
       "        text-align: right;\n",
       "    }\n",
       "</style>\n",
       "<table border=\"1\" class=\"dataframe\">\n",
       "  <thead>\n",
       "    <tr style=\"text-align: right;\">\n",
       "      <th></th>\n",
       "      <th>State</th>\n",
       "      <th>Vehicle_Class</th>\n",
       "      <th>EV_Sales_Quantity</th>\n",
       "      <th>State_Encoded</th>\n",
       "      <th>Vehicle_Class_Encoded</th>\n",
       "      <th>Segment</th>\n",
       "    </tr>\n",
       "  </thead>\n",
       "  <tbody>\n",
       "    <tr>\n",
       "      <th>0</th>\n",
       "      <td>Andaman &amp; Nicobar Island</td>\n",
       "      <td>ADAPTED VEHICLE</td>\n",
       "      <td>0.0</td>\n",
       "      <td>0</td>\n",
       "      <td>0</td>\n",
       "      <td>0</td>\n",
       "    </tr>\n",
       "    <tr>\n",
       "      <th>1</th>\n",
       "      <td>Andaman &amp; Nicobar Island</td>\n",
       "      <td>AGRICULTURAL TRACTOR</td>\n",
       "      <td>0.0</td>\n",
       "      <td>0</td>\n",
       "      <td>1</td>\n",
       "      <td>0</td>\n",
       "    </tr>\n",
       "    <tr>\n",
       "      <th>2</th>\n",
       "      <td>Andaman &amp; Nicobar Island</td>\n",
       "      <td>AMBULANCE</td>\n",
       "      <td>0.0</td>\n",
       "      <td>0</td>\n",
       "      <td>2</td>\n",
       "      <td>0</td>\n",
       "    </tr>\n",
       "    <tr>\n",
       "      <th>3</th>\n",
       "      <td>Andaman &amp; Nicobar Island</td>\n",
       "      <td>BUS</td>\n",
       "      <td>40.0</td>\n",
       "      <td>0</td>\n",
       "      <td>9</td>\n",
       "      <td>0</td>\n",
       "    </tr>\n",
       "    <tr>\n",
       "      <th>4</th>\n",
       "      <td>Andaman &amp; Nicobar Island</td>\n",
       "      <td>CONSTRUCTION EQUIPMENT VEHICLE</td>\n",
       "      <td>0.0</td>\n",
       "      <td>0</td>\n",
       "      <td>13</td>\n",
       "      <td>0</td>\n",
       "    </tr>\n",
       "  </tbody>\n",
       "</table>\n",
       "</div>"
      ],
      "text/plain": [
       "                      State                   Vehicle_Class  \\\n",
       "0  Andaman & Nicobar Island                 ADAPTED VEHICLE   \n",
       "1  Andaman & Nicobar Island            AGRICULTURAL TRACTOR   \n",
       "2  Andaman & Nicobar Island                       AMBULANCE   \n",
       "3  Andaman & Nicobar Island                             BUS   \n",
       "4  Andaman & Nicobar Island  CONSTRUCTION EQUIPMENT VEHICLE   \n",
       "\n",
       "   EV_Sales_Quantity  State_Encoded  Vehicle_Class_Encoded  Segment  \n",
       "0                0.0              0                      0        0  \n",
       "1                0.0              0                      1        0  \n",
       "2                0.0              0                      2        0  \n",
       "3               40.0              0                      9        0  \n",
       "4                0.0              0                     13        0  "
      ]
     },
     "execution_count": 8,
     "metadata": {},
     "output_type": "execute_result"
    }
   ],
   "source": [
    "from sklearn.cluster import KMeans\n",
    "import matplotlib.pyplot as plt\n",
    "import seaborn as sns\n",
    "\n",
    "# Select features for clustering\n",
    "X = df_cluster[['EV_Sales_Quantity', 'State_Encoded', 'Vehicle_Class_Encoded']]\n",
    "\n",
    "# Apply KMeans\n",
    "kmeans = KMeans(n_clusters=3, random_state=42)\n",
    "df_cluster['Segment'] = kmeans.fit_predict(X)\n",
    "\n",
    "# View the first few rows with assigned segment\n",
    "df_cluster.head()\n"
   ]
  },
  {
   "cell_type": "markdown",
   "id": "a173d18f-f8cc-44ec-8230-d7b34a2fad52",
   "metadata": {},
   "source": [
    "#  Step 4.3: Visualize the Segments"
   ]
  },
  {
   "cell_type": "code",
   "execution_count": 9,
   "id": "187f522a-07d5-43fe-bb81-4a03df3c1bd2",
   "metadata": {},
   "outputs": [
    {
     "data": {
      "image/png": "[encoded data removed]",
      "text/plain": [
       "<Figure size 1000x600 with 1 Axes>"
      ]
     },
     "metadata": {},
     "output_type": "display_data"
    }
   ],
   "source": [
    "plt.figure(figsize=(10, 6))\n",
    "sns.scatterplot(\n",
    "    data=df_cluster,\n",
    "    x='EV_Sales_Quantity',\n",
    "    y='Vehicle_Class_Encoded',\n",
    "    hue='Segment',\n",
    "    palette='Set1',\n",
    "    alpha=0.7\n",
    ")\n",
    "plt.title(\"Market Segments by EV Sales and Vehicle Class\")\n",
    "plt.xlabel(\"EV Sales Quantity\")\n",
    "plt.ylabel(\"Vehicle Class (Encoded)\")\n",
    "plt.grid(True)\n",
    "plt.show()\n"
   ]
  },
  {
   "cell_type": "markdown",
   "id": "2929b942-9c8f-486d-9d26-7c4af61bb7d7",
   "metadata": {},
   "source": [
    "# Step 5: Interpret the Segments.\n",
    "\n",
    "# 5.1: Profile Each Cluster"
   ]
  },
  {
   "cell_type": "code",
   "execution_count": 10,
   "id": "b7978449-4dec-4404-9e49-866985b4843e",
   "metadata": {},
   "outputs": [
    {
     "name": "stdout",
     "output_type": "stream",
     "text": [
      "🔹 Total EV Sales by Segment:\n",
      "   Segment  EV_Sales_Quantity\n",
      "0        0          1426073.0\n",
      "1        1           596325.0\n",
      "2        2          1571413.0\n"
     ]
    }
   ],
   "source": [
    "# Group by Segment and get total EV sales\n",
    "segment_summary = df_cluster.groupby('Segment')['EV_Sales_Quantity'].sum().reset_index()\n",
    "print(\"🔹 Total EV Sales by Segment:\")\n",
    "print(segment_summary)\n"
   ]
  },
  {
   "cell_type": "code",
   "execution_count": 11,
   "id": "abacffa7-7191-460e-8601-095256abbf34",
   "metadata": {},
   "outputs": [
    {
     "name": "stdout",
     "output_type": "stream",
     "text": [
      "🔹 Vehicle Class Sales by Segment:\n",
      "    Segment                   Vehicle_Class  EV_Sales_Quantity\n",
      "31        0                 M-CYCLE/SCOOTER           573261.0\n",
      "18        0                   E-RICKSHAW(P)           364501.0\n",
      "40        0                       MOTOR CAR           130676.0\n",
      "17        0        E-RICKSHAW WITH CART (G)            90656.0\n",
      "59        0       THREE WHEELER (PASSENGER)            76132.0\n",
      "..      ...                             ...                ...\n",
      "69        0  VEHICLE FITTED WITH COMPRESSOR                0.0\n",
      "70        0   VEHICLE FITTED WITH GENERATOR                0.0\n",
      "73        1                   E-RICKSHAW(P)           596325.0\n",
      "75        2                 M-CYCLE/SCOOTER          1124112.0\n",
      "74        2                   E-RICKSHAW(P)           447301.0\n",
      "\n",
      "[76 rows x 3 columns]\n"
     ]
    }
   ],
   "source": [
    "# Vehicle classes per segment\n",
    "vehicle_class_summary = df_cluster.groupby(['Segment', 'Vehicle_Class'])['EV_Sales_Quantity'].sum().reset_index()\n",
    "print(\"🔹 Vehicle Class Sales by Segment:\")\n",
    "print(vehicle_class_summary.sort_values(['Segment', 'EV_Sales_Quantity'], ascending=[True, False]))\n"
   ]
  },
  {
   "cell_type": "markdown",
   "id": "f0c36ad9-ec00-4960-80e3-557a54b61890",
   "metadata": {},
   "source": [
    "# 5.2: Identify Top Vehicle Type(s) and Regions Per Segment"
   ]
  },
  {
   "cell_type": "code",
   "execution_count": 12,
   "id": "b7ed04d1-be8a-427a-9419-f9bb1e7e6d9c",
   "metadata": {},
   "outputs": [
    {
     "name": "stdout",
     "output_type": "stream",
     "text": [
      "🔹 Top Vehicle Type per Segment:\n",
      "   Segment    Vehicle_Class  EV_Sales_Quantity\n",
      "0        0  M-CYCLE/SCOOTER           573261.0\n",
      "1        1    E-RICKSHAW(P)           596325.0\n",
      "2        2  M-CYCLE/SCOOTER          1124112.0\n",
      "\n",
      "🔹 Top Region per Segment:\n",
      "   Segment          State  EV_Sales_Quantity\n",
      "0        0  Uttar Pradesh           135749.0\n",
      "1        1  Uttar Pradesh           596325.0\n",
      "2        2    Maharashtra           330422.0\n"
     ]
    }
   ],
   "source": [
    "# Top vehicle type(s) per segment by total sales\n",
    "top_vehicle_per_segment = df_cluster.groupby(['Segment', 'Vehicle_Class'])['EV_Sales_Quantity'].sum().reset_index()\n",
    "\n",
    "# Get the top vehicle class per segment\n",
    "top_vehicle_per_segment = top_vehicle_per_segment.sort_values(['Segment', 'EV_Sales_Quantity'], ascending=[True, False])\n",
    "top_vehicle_per_segment = top_vehicle_per_segment.groupby('Segment').first().reset_index()\n",
    "\n",
    "print(\"🔹 Top Vehicle Type per Segment:\")\n",
    "print(top_vehicle_per_segment)\n",
    "\n",
    "# Top regions per segment by total sales\n",
    "top_region_per_segment = df_cluster.groupby(['Segment', 'State'])['EV_Sales_Quantity'].sum().reset_index()\n",
    "\n",
    "# Sort and get top region per segment\n",
    "top_region_per_segment = top_region_per_segment.sort_values(['Segment', 'EV_Sales_Quantity'], ascending=[True, False])\n",
    "top_region_per_segment = top_region_per_segment.groupby('Segment').first().reset_index()\n",
    "\n",
    "print(\"\\n🔹 Top Region per Segment:\")\n",
    "print(top_region_per_segment)\n"
   ]
  },
  {
   "cell_type": "code",
   "execution_count": 13,
   "id": "4156afd9-2bc5-49cf-aab8-5fce38287368",
   "metadata": {},
   "outputs": [
    {
     "name": "stdout",
     "output_type": "stream",
     "text": [
      "   Segment  Total_EV_Sales Top_Vehicle_Type  Top_Vehicle_Sales     Top_Region  \\\n",
      "0        0       1426073.0  M-CYCLE/SCOOTER           573261.0  Uttar Pradesh   \n",
      "1        1        596325.0    E-RICKSHAW(P)           596325.0  Uttar Pradesh   \n",
      "2        2       1571413.0  M-CYCLE/SCOOTER          1124112.0    Maharashtra   \n",
      "\n",
      "   Top_Region_Sales  \n",
      "0          135749.0  \n",
      "1          596325.0  \n",
      "2          330422.0  \n"
     ]
    }
   ],
   "source": [
    "# Summary per segment: total sales, top vehicle, top region\n",
    "summary = pd.DataFrame({\n",
    "    'Segment': segment_summary['Segment'],\n",
    "    'Total_EV_Sales': segment_summary['EV_Sales_Quantity'],\n",
    "    'Top_Vehicle_Type': top_vehicle_per_segment['Vehicle_Class'],\n",
    "    'Top_Vehicle_Sales': top_vehicle_per_segment['EV_Sales_Quantity'],\n",
    "    'Top_Region': top_region_per_segment['State'],\n",
    "    'Top_Region_Sales': top_region_per_segment['EV_Sales_Quantity']\n",
    "})\n",
    "\n",
    "print(summary)\n"
   ]
  },
  {
   "cell_type": "markdown",
   "id": "e1002bdc-0121-45d8-b574-ee0ba459b912",
   "metadata": {},
   "source": [
    "# Step 6: Fermi Estimation\n",
    "\n",
    "# 6.1: Number of Potential Buyers per Segment and Vehicle Class"
   ]
  },
  {
   "cell_type": "code",
   "execution_count": 14,
   "id": "794760f7-3afb-407b-b736-5945b679a7c8",
   "metadata": {},
   "outputs": [
    {
     "name": "stdout",
     "output_type": "stream",
     "text": [
      "    Segment                 Vehicle_Class  EV_Sales_Quantity\n",
      "0         0               ADAPTED VEHICLE              175.0\n",
      "1         0          AGRICULTURAL TRACTOR              121.0\n",
      "2         0                     AMBULANCE                3.0\n",
      "3         0              ANIMAL AMBULANCE                0.0\n",
      "4         0  ARMOURED/SPECIALISED VEHICLE                0.0\n",
      "..      ...                           ...                ...\n",
      "71        0       VEHICLE FITTED WITH RIG               18.0\n",
      "72        0                     X-RAY VAN                1.0\n",
      "73        1                 E-RICKSHAW(P)           596325.0\n",
      "74        2                 E-RICKSHAW(P)           447301.0\n",
      "75        2               M-CYCLE/SCOOTER          1124112.0\n",
      "\n",
      "[76 rows x 3 columns]\n"
     ]
    }
   ],
   "source": [
    "# Group by Segment and Vehicle_Class to get total EV sales (buyers)\n",
    "buyers_per_vehicle_segment = df_cluster.groupby(['Segment', 'Vehicle_Class'])['EV_Sales_Quantity'].sum().reset_index()\n",
    "print(buyers_per_vehicle_segment)\n"
   ]
  },
  {
   "cell_type": "markdown",
   "id": "04b20947-704b-4a41-8502-c1222bebde8b",
   "metadata": {},
   "source": [
    "# 6.2: Define Average Prices for Vehicle Classes "
   ]
  },
  {
   "cell_type": "code",
   "execution_count": 15,
   "id": "c2795935-626a-4d4a-ae51-22327ee2366a",
   "metadata": {},
   "outputs": [],
   "source": [
    "# Define average prices (₹) for key vehicle classes relevant to EV sales\n",
    "avg_prices = {\n",
    "    'M-CYCLE/SCOOTER': 90000,\n",
    "    'E-RICKSHAW(P)': 150000,\n",
    "    'E-RICKSHAW WITH CART (G)': 150000,\n",
    "    'MOTOR CAR': 1000000,\n",
    "}\n"
   ]
  },
  {
   "cell_type": "markdown",
   "id": "7cfe0be7-1f9f-4d55-bd90-31473f991ac7",
   "metadata": {},
   "source": [
    "# 6.3: Calculate Potential Revenue per Segment & Vehicle Class"
   ]
  },
  {
   "cell_type": "code",
   "execution_count": 16,
   "id": "01c91815-f58a-42a0-9d4c-77cc3b23652d",
   "metadata": {},
   "outputs": [
    {
     "name": "stdout",
     "output_type": "stream",
     "text": [
      "    Segment                 Vehicle_Class  EV_Sales_Quantity  Avg_Price  \\\n",
      "0         0               ADAPTED VEHICLE              175.0        NaN   \n",
      "1         0          AGRICULTURAL TRACTOR              121.0        NaN   \n",
      "2         0                     AMBULANCE                3.0        NaN   \n",
      "3         0              ANIMAL AMBULANCE                0.0        NaN   \n",
      "4         0  ARMOURED/SPECIALISED VEHICLE                0.0        NaN   \n",
      "..      ...                           ...                ...        ...   \n",
      "71        0       VEHICLE FITTED WITH RIG               18.0        NaN   \n",
      "72        0                     X-RAY VAN                1.0        NaN   \n",
      "73        1                 E-RICKSHAW(P)           596325.0   150000.0   \n",
      "74        2                 E-RICKSHAW(P)           447301.0   150000.0   \n",
      "75        2               M-CYCLE/SCOOTER          1124112.0    90000.0   \n",
      "\n",
      "    Potential_Revenue_INR  \n",
      "0            0.000000e+00  \n",
      "1            0.000000e+00  \n",
      "2            0.000000e+00  \n",
      "3            0.000000e+00  \n",
      "4            0.000000e+00  \n",
      "..                    ...  \n",
      "71           0.000000e+00  \n",
      "72           0.000000e+00  \n",
      "73           8.944875e+10  \n",
      "74           6.709515e+10  \n",
      "75           1.011701e+11  \n",
      "\n",
      "[76 rows x 5 columns]\n"
     ]
    }
   ],
   "source": [
    "# Map average prices to the dataframe\n",
    "buyers_per_vehicle_segment['Avg_Price'] = buyers_per_vehicle_segment['Vehicle_Class'].map(avg_prices)\n",
    "\n",
    "# Calculate potential revenue per vehicle class in each segment\n",
    "buyers_per_vehicle_segment['Potential_Revenue_INR'] = buyers_per_vehicle_segment['EV_Sales_Quantity'] * buyers_per_vehicle_segment['Avg_Price']\n",
    "\n",
    "# Replace NaN with 0 for vehicle classes not listed in avg_prices\n",
    "buyers_per_vehicle_segment['Potential_Revenue_INR'] = buyers_per_vehicle_segment['Potential_Revenue_INR'].fillna(0)\n",
    "\n",
    "# Show the result\n",
    "print(buyers_per_vehicle_segment[['Segment', 'Vehicle_Class', 'EV_Sales_Quantity', 'Avg_Price', 'Potential_Revenue_INR']])\n"
   ]
  },
  {
   "cell_type": "markdown",
   "id": "6a84e84c-3567-411f-85a0-b93e492d4916",
   "metadata": {},
   "source": [
    "# 6.4: Summarize Potential Revenue by Segment"
   ]
  },
  {
   "cell_type": "code",
   "execution_count": 17,
   "id": "6dd84df7-990c-47d5-bade-316b6c5c94b2",
   "metadata": {},
   "outputs": [
    {
     "name": "stdout",
     "output_type": "stream",
     "text": [
      "   Segment  Potential_Revenue_INR\n",
      "0        0           2.505430e+11\n",
      "1        1           8.944875e+10\n",
      "2        2           1.682652e+11\n"
     ]
    }
   ],
   "source": [
    "# Sum potential revenue by segment\n",
    "revenue_by_segment = buyers_per_vehicle_segment.groupby('Segment')['Potential_Revenue_INR'].sum().reset_index()\n",
    "\n",
    "# Display the summarized revenue by segment\n",
    "print(revenue_by_segment)\n"
   ]
  },
  {
   "cell_type": "markdown",
   "id": "84a4f8a4-9e7d-4bf7-90fd-9b95c1912f0d",
   "metadata": {},
   "source": [
    "# 6.5: Visualize potential revenue by segment"
   ]
  },
  {
   "cell_type": "code",
   "execution_count": 18,
   "id": "1f6b4d54-90d4-401d-88ea-29dca08fd6fd",
   "metadata": {},
   "outputs": [
    {
     "data": {
      "image/png": "[encoded data removed]",
      "text/plain": [
       "<Figure size 800x500 with 1 Axes>"
      ]
     },
     "metadata": {},
     "output_type": "display_data"
    }
   ],
   "source": [
    "import matplotlib.pyplot as plt\n",
    "\n",
    "plt.figure(figsize=(8,5))\n",
    "plt.bar(revenue_by_segment['Segment'].astype(str), revenue_by_segment['Potential_Revenue_INR'] / 1e9, color=['skyblue', 'orange', 'green'])\n",
    "plt.xlabel('Segment')\n",
    "plt.ylabel('Potential Revenue (Billion INR)')\n",
    "plt.title('Potential Revenue by Segment')\n",
    "plt.show()\n"
   ]
  },
  {
   "cell_type": "markdown",
   "id": "fb896f1f-c5ef-49db-9004-717ee3c4da3f",
   "metadata": {},
   "source": [
    "# Segment 0 shows the highest potential revenue of approximately ₹250.5 billion, indicating a significant market size and demand.\n",
    "\n",
    "# Segment 2 follows with a substantial revenue potential of around ₹168.3 billion, representing a strong secondary market opportunity.\n",
    "\n",
    "# Segment 1 has a comparatively lower potential revenue of about ₹89.4 billion, suggesting a smaller but still notable segment.\n",
    "\n",
    "# Based on these findings, it is recommended that businesses prioritize Segment 0 for their initial market focus due to its largest revenue potential. Segment 2 also presents promising opportunities and can be targeted in subsequent phases. Segment 1, while smaller, may offer niche prospects worth exploring depending on strategic goals.\n",
    "\n",
    "\n",
    "\n"
   ]
  },
  {
   "cell_type": "markdown",
   "id": "7498bf53-5de5-465a-b833-377390c00f9d",
   "metadata": {},
   "source": [
    "# STEP - 7 PROFILING SEGMENTS AND MAKING FINAL STRATERGIC RECOMMENDATIONS\n",
    "\n",
    "\n",
    "# Step 7.1: Profile each segment with key characteristics"
   ]
  },
  {
   "cell_type": "code",
   "execution_count": 19,
   "id": "ed898a96-ee97-4756-b583-6d5a9b4f6a3a",
   "metadata": {},
   "outputs": [
    {
     "name": "stdout",
     "output_type": "stream",
     "text": [
      "Top Vehicle Classes per Segment:\n",
      "     Segment    Vehicle_Class  EV_Sales_Quantity\n",
      "31        0  M-CYCLE/SCOOTER           573261.0\n",
      "18        0    E-RICKSHAW(P)           364501.0\n",
      "40        0        MOTOR CAR           130676.0\n",
      "73        1    E-RICKSHAW(P)           596325.0\n",
      "75        2  M-CYCLE/SCOOTER          1124112.0\n",
      "74        2    E-RICKSHAW(P)           447301.0\n",
      "\n",
      "Top States per Segment:\n",
      "     Segment           State  EV_Sales_Quantity\n",
      "31        0   Uttar Pradesh           135749.0\n",
      "8         0           Delhi           134099.0\n",
      "18        0  Madhya Pradesh           133182.0\n",
      "34        1   Uttar Pradesh           596325.0\n",
      "41        2     Maharashtra           330422.0\n",
      "39        2       Karnataka           254789.0\n",
      "36        2           Bihar           174880.0\n"
     ]
    }
   ],
   "source": [
    "# Get top 3 Vehicle Classes by EV sales per segment\n",
    "top_vehicle_classes = df_cluster.groupby(['Segment', 'Vehicle_Class'])['EV_Sales_Quantity'].sum().reset_index()\n",
    "top_vehicle_classes = top_vehicle_classes.sort_values(['Segment', 'EV_Sales_Quantity'], ascending=[True, False])\n",
    "top_vehicle_classes = top_vehicle_classes.groupby('Segment').head(3)\n",
    "\n",
    "# Get top 3 States by EV sales per segment\n",
    "top_states = df_cluster.groupby(['Segment', 'State'])['EV_Sales_Quantity'].sum().reset_index()\n",
    "top_states = top_states.sort_values(['Segment', 'EV_Sales_Quantity'], ascending=[True, False])\n",
    "top_states = top_states.groupby('Segment').head(3)\n",
    "\n",
    "print(\"Top Vehicle Classes per Segment:\\n\", top_vehicle_classes)\n",
    "print(\"\\nTop States per Segment:\\n\", top_states)\n"
   ]
  },
  {
   "cell_type": "markdown",
   "id": "46583749-bb8e-4bfd-945b-7eb547f0bded",
   "metadata": {},
   "source": [
    "# Recommended EV Type for Production\n",
    "# Based on the detailed market segmentation and sales analysis of electric vehicles (EVs) in India:\n",
    "\n",
    "# Market Segments: The dataset revealed three key segments with distinct EV preferences.\n",
    "\n",
    "# Top Vehicle Types by Segment:\n",
    "\n",
    "# Segment 0 prefers M-CYCLE/SCOOTER and E-RICKSHAW(P) as the dominant EV types.\n",
    "\n",
    "# Segment 1 shows strong demand for E-RICKSHAW(P).\n",
    "\n",
    "# Segment 2 primarily favors M-CYCLE/SCOOTER and E-RICKSHAW(P).\n",
    "\n",
    "# Sales Volume: M-CYCLE/SCOOTER and E-RICKSHAW(P) consistently show the highest EV sales quantities across segments.\n",
    "\n",
    "# Potential Revenue: These vehicle classes also generate the largest potential revenue, indicating strong market feasibility and profitability.\n",
    "\n",
    "# Top States: Regions like Uttar Pradesh, Maharashtra, and Karnataka emerge as the leading markets driving demand for these vehicle types.\n",
    "\n",
    "# Conclusion:\n",
    "# The company should focus on producing electric two-wheelers, specifically electric scooters (M-CYCLE/SCOOTER) and electric rickshaws (E-RICKSHAW(P)), as these categories demonstrate the highest market demand and revenue potential across key states in India. Launching EV bikes and e-rickshaws aligns with current consumer preferences and maximizes market penetration opportunities."
   ]
  },
  {
   "cell_type": "markdown",
   "id": "ae1f16ac-c62a-4039-8155-c9754f9ad336",
   "metadata": {},
   "source": [
    "# Question 2: “To whom will it sell?\n",
    "\n",
    "# STEP 1 : Define the Objective\n",
    "# Goal: Segment the population using demographic and behavioral data to find the ideal early adopters of EVs.\n",
    "# We will use:\n",
    "\n",
    "# •\tDemographics: Gender, Age, Income\n",
    "# •\tPsychographic & Behavioral Factors: Knowledge (K1–K5), Attitude (ATT1–ATT5), Practice (P1–P5)\n"
   ]
  },
  {
   "cell_type": "markdown",
   "id": "af64b2fd-5348-4449-9b1e-ab3eda05b1ee",
   "metadata": {},
   "source": [
    "# STEP 2: Data Preprocessing \n",
    "\n",
    "# 2.1 : Create Average Scores\n",
    "\n",
    "# Calculate the average Knowledge Score, Attitude Score, and Practice Score per respondent."
   ]
  },
  {
   "cell_type": "code",
   "execution_count": 21,
   "id": "1d1acafe-08e3-4fa6-94dc-d6fe174be79a",
   "metadata": {},
   "outputs": [
    {
     "data": {
      "text/html": [
       "<div>\n",
       "<style scoped>\n",
       "    .dataframe tbody tr th:only-of-type {\n",
       "        vertical-align: middle;\n",
       "    }\n",
       "\n",
       "    .dataframe tbody tr th {\n",
       "        vertical-align: top;\n",
       "    }\n",
       "\n",
       "    .dataframe thead th {\n",
       "        text-align: right;\n",
       "    }\n",
       "</style>\n",
       "<table border=\"1\" class=\"dataframe\">\n",
       "  <thead>\n",
       "    <tr style=\"text-align: right;\">\n",
       "      <th></th>\n",
       "      <th>Knowledge_Score</th>\n",
       "      <th>Attitude_Score</th>\n",
       "      <th>Practice_Score</th>\n",
       "    </tr>\n",
       "  </thead>\n",
       "  <tbody>\n",
       "    <tr>\n",
       "      <th>0</th>\n",
       "      <td>1.0</td>\n",
       "      <td>1.0</td>\n",
       "      <td>1.0</td>\n",
       "    </tr>\n",
       "    <tr>\n",
       "      <th>1</th>\n",
       "      <td>2.0</td>\n",
       "      <td>2.0</td>\n",
       "      <td>2.0</td>\n",
       "    </tr>\n",
       "    <tr>\n",
       "      <th>2</th>\n",
       "      <td>1.0</td>\n",
       "      <td>1.0</td>\n",
       "      <td>1.0</td>\n",
       "    </tr>\n",
       "    <tr>\n",
       "      <th>3</th>\n",
       "      <td>2.0</td>\n",
       "      <td>2.0</td>\n",
       "      <td>2.0</td>\n",
       "    </tr>\n",
       "    <tr>\n",
       "      <th>4</th>\n",
       "      <td>3.0</td>\n",
       "      <td>3.0</td>\n",
       "      <td>3.0</td>\n",
       "    </tr>\n",
       "  </tbody>\n",
       "</table>\n",
       "</div>"
      ],
      "text/plain": [
       "   Knowledge_Score  Attitude_Score  Practice_Score\n",
       "0              1.0             1.0             1.0\n",
       "1              2.0             2.0             2.0\n",
       "2              1.0             1.0             1.0\n",
       "3              2.0             2.0             2.0\n",
       "4              3.0             3.0             3.0"
      ]
     },
     "execution_count": 21,
     "metadata": {},
     "output_type": "execute_result"
    }
   ],
   "source": [
    "import pandas as pd\n",
    "\n",
    "# Load the dataset\n",
    "df = pd.read_excel(\"Response.xlsx\")\n",
    "\n",
    "# Calculate mean scores for K1–K5, ATT1–ATT5, P1–P5\n",
    "df[\"Knowledge_Score\"] = df[[\"K1\", \"K2\", \"K3\", \"K4\", \"K5\"]].mean(axis=1)\n",
    "df[\"Attitude_Score\"] = df[[\"ATT1\", \"ATT2\", \"ATT3\", \"ATT4\", \"ATT5\"]].mean(axis=1)\n",
    "df[\"Practice_Score\"] = df[[\"P1\", \"P2\", \"P3\", \"P4\", \"P5\"]].mean(axis=1)\n",
    "\n",
    "# Display the new columns\n",
    "df[[\"Knowledge_Score\", \"Attitude_Score\", \"Practice_Score\"]].head()\n"
   ]
  },
  {
   "cell_type": "markdown",
   "id": "8b48dcbc-230f-4632-9243-5e96df51c6a5",
   "metadata": {},
   "source": [
    "# STEP 2.2: Select Final Features & Clean Data"
   ]
  },
  {
   "cell_type": "code",
   "execution_count": 24,
   "id": "83715381-9fc2-4b71-819b-7a8acc2f0a0c",
   "metadata": {},
   "outputs": [
    {
     "data": {
      "text/html": [
       "<div>\n",
       "<style scoped>\n",
       "    .dataframe tbody tr th:only-of-type {\n",
       "        vertical-align: middle;\n",
       "    }\n",
       "\n",
       "    .dataframe tbody tr th {\n",
       "        vertical-align: top;\n",
       "    }\n",
       "\n",
       "    .dataframe thead th {\n",
       "        text-align: right;\n",
       "    }\n",
       "</style>\n",
       "<table border=\"1\" class=\"dataframe\">\n",
       "  <thead>\n",
       "    <tr style=\"text-align: right;\">\n",
       "      <th></th>\n",
       "      <th>Gender</th>\n",
       "      <th>Age</th>\n",
       "      <th>Income</th>\n",
       "      <th>Knowledge_Score</th>\n",
       "      <th>Attitude_Score</th>\n",
       "      <th>Practice_Score</th>\n",
       "    </tr>\n",
       "  </thead>\n",
       "  <tbody>\n",
       "    <tr>\n",
       "      <th>0</th>\n",
       "      <td>1</td>\n",
       "      <td>1</td>\n",
       "      <td>1</td>\n",
       "      <td>1.0</td>\n",
       "      <td>1.0</td>\n",
       "      <td>1.0</td>\n",
       "    </tr>\n",
       "    <tr>\n",
       "      <th>1</th>\n",
       "      <td>2</td>\n",
       "      <td>2</td>\n",
       "      <td>2</td>\n",
       "      <td>2.0</td>\n",
       "      <td>2.0</td>\n",
       "      <td>2.0</td>\n",
       "    </tr>\n",
       "    <tr>\n",
       "      <th>2</th>\n",
       "      <td>1</td>\n",
       "      <td>3</td>\n",
       "      <td>3</td>\n",
       "      <td>1.0</td>\n",
       "      <td>1.0</td>\n",
       "      <td>1.0</td>\n",
       "    </tr>\n",
       "    <tr>\n",
       "      <th>3</th>\n",
       "      <td>1</td>\n",
       "      <td>4</td>\n",
       "      <td>1</td>\n",
       "      <td>2.0</td>\n",
       "      <td>2.0</td>\n",
       "      <td>2.0</td>\n",
       "    </tr>\n",
       "    <tr>\n",
       "      <th>4</th>\n",
       "      <td>2</td>\n",
       "      <td>1</td>\n",
       "      <td>2</td>\n",
       "      <td>3.0</td>\n",
       "      <td>3.0</td>\n",
       "      <td>3.0</td>\n",
       "    </tr>\n",
       "  </tbody>\n",
       "</table>\n",
       "</div>"
      ],
      "text/plain": [
       "   Gender  Age  Income  Knowledge_Score  Attitude_Score  Practice_Score\n",
       "0       1    1       1              1.0             1.0             1.0\n",
       "1       2    2       2              2.0             2.0             2.0\n",
       "2       1    3       3              1.0             1.0             1.0\n",
       "3       1    4       1              2.0             2.0             2.0\n",
       "4       2    1       2              3.0             3.0             3.0"
      ]
     },
     "execution_count": 24,
     "metadata": {},
     "output_type": "execute_result"
    }
   ],
   "source": [
    "# Strip whitespace from column names\n",
    "df.columns = df.columns.str.strip()\n",
    "\n",
    "# Rename key columns for easier handling\n",
    "df = df.rename(columns={\n",
    "    \"What is your gender?\": \"Gender\",\n",
    "    \"What is your age?\": \"Age\"\n",
    "})\n",
    "\n",
    "# Select relevant features\n",
    "features = df[[\"Gender\", \"Age\", \"Income\", \"Knowledge_Score\", \"Attitude_Score\", \"Practice_Score\"]]\n",
    "\n",
    "# Drop any missing values (if present)\n",
    "features = features.dropna()\n",
    "\n",
    "# Preview the cleaned features\n",
    "features.head()\n"
   ]
  },
  {
   "cell_type": "markdown",
   "id": "70ce56ab-2d1a-416a-8289-02896a425be0",
   "metadata": {},
   "source": [
    "# Step 3: Segment Extraction using Clustering"
   ]
  },
  {
   "cell_type": "code",
   "execution_count": 25,
   "id": "a5ef5257-e803-4b59-a87d-4c692e825358",
   "metadata": {},
   "outputs": [
    {
     "data": {
      "text/plain": [
       "Segment\n",
       "1    438\n",
       "2    391\n",
       "0    294\n",
       "Name: count, dtype: int64"
      ]
     },
     "execution_count": 25,
     "metadata": {},
     "output_type": "execute_result"
    }
   ],
   "source": [
    "from sklearn.preprocessing import StandardScaler\n",
    "from sklearn.cluster import KMeans\n",
    "\n",
    "# Step 1: Scale the selected features\n",
    "scaler = StandardScaler()\n",
    "scaled_features = scaler.fit_transform(features)\n",
    "\n",
    "# Step 2: Apply KMeans clustering (we use 3 clusters for simplicity)\n",
    "kmeans = KMeans(n_clusters=3, random_state=42)\n",
    "features[\"Segment\"] = kmeans.fit_predict(scaled_features)\n",
    "\n",
    "# Step 3: View how many respondents fall in each segment\n",
    "features[\"Segment\"].value_counts()\n"
   ]
  },
  {
   "cell_type": "markdown",
   "id": "f76b1696-7bca-46ff-afd9-becb4212f4f7",
   "metadata": {},
   "source": [
    "# STEP 4: Segment Analysis & Profiling\n",
    "\n",
    "# In this step, we:\n",
    "\n",
    "# Analyze each segment to find out what kind of people are in it\n",
    "\n",
    "# Use their average demographics and EV scores to label each segment (e.g., young professionals with high EV interest)\n",
    "\n",
    "# Identify the ideal early adopter group"
   ]
  },
  {
   "cell_type": "markdown",
   "id": "e1daef10-b1cd-4904-98fc-06a4595acc3d",
   "metadata": {},
   "source": [
    "# Step 4.1: Analyze Segment Characteristics"
   ]
  },
  {
   "cell_type": "code",
   "execution_count": 26,
   "id": "b133c1d1-363e-450e-9957-b389ec2a55bc",
   "metadata": {},
   "outputs": [
    {
     "data": {
      "text/html": [
       "<div>\n",
       "<style scoped>\n",
       "    .dataframe tbody tr th:only-of-type {\n",
       "        vertical-align: middle;\n",
       "    }\n",
       "\n",
       "    .dataframe tbody tr th {\n",
       "        vertical-align: top;\n",
       "    }\n",
       "\n",
       "    .dataframe thead th {\n",
       "        text-align: right;\n",
       "    }\n",
       "</style>\n",
       "<table border=\"1\" class=\"dataframe\">\n",
       "  <thead>\n",
       "    <tr style=\"text-align: right;\">\n",
       "      <th></th>\n",
       "      <th>Gender</th>\n",
       "      <th>Age</th>\n",
       "      <th>Income</th>\n",
       "      <th>Knowledge_Score</th>\n",
       "      <th>Attitude_Score</th>\n",
       "      <th>Practice_Score</th>\n",
       "    </tr>\n",
       "    <tr>\n",
       "      <th>Segment</th>\n",
       "      <th></th>\n",
       "      <th></th>\n",
       "      <th></th>\n",
       "      <th></th>\n",
       "      <th></th>\n",
       "      <th></th>\n",
       "    </tr>\n",
       "  </thead>\n",
       "  <tbody>\n",
       "    <tr>\n",
       "      <th>0</th>\n",
       "      <td>1.69</td>\n",
       "      <td>3.34</td>\n",
       "      <td>1.81</td>\n",
       "      <td>3.58</td>\n",
       "      <td>3.56</td>\n",
       "      <td>3.52</td>\n",
       "    </tr>\n",
       "    <tr>\n",
       "      <th>1</th>\n",
       "      <td>1.59</td>\n",
       "      <td>1.97</td>\n",
       "      <td>2.59</td>\n",
       "      <td>4.66</td>\n",
       "      <td>4.67</td>\n",
       "      <td>4.61</td>\n",
       "    </tr>\n",
       "    <tr>\n",
       "      <th>2</th>\n",
       "      <td>1.59</td>\n",
       "      <td>2.18</td>\n",
       "      <td>2.69</td>\n",
       "      <td>1.86</td>\n",
       "      <td>1.86</td>\n",
       "      <td>1.84</td>\n",
       "    </tr>\n",
       "  </tbody>\n",
       "</table>\n",
       "</div>"
      ],
      "text/plain": [
       "         Gender   Age  Income  Knowledge_Score  Attitude_Score  Practice_Score\n",
       "Segment                                                                       \n",
       "0          1.69  3.34    1.81             3.58            3.56            3.52\n",
       "1          1.59  1.97    2.59             4.66            4.67            4.61\n",
       "2          1.59  2.18    2.69             1.86            1.86            1.84"
      ]
     },
     "execution_count": 26,
     "metadata": {},
     "output_type": "execute_result"
    }
   ],
   "source": [
    "segment_profile = features.groupby(\"Segment\").mean().round(2)\n",
    "segment_profile\n"
   ]
  },
  {
   "cell_type": "markdown",
   "id": "0099f4d6-fdfd-43bc-a821-94e8728875db",
   "metadata": {},
   "source": [
    "# Step 4.2: Add segment counts (size) to understand the number of respondents in each segment"
   ]
  },
  {
   "cell_type": "code",
   "execution_count": 27,
   "id": "a55a192f-3e73-4c56-984e-0d58e5a66ff3",
   "metadata": {},
   "outputs": [
    {
     "data": {
      "text/plain": [
       "Segment\n",
       "0    294\n",
       "1    438\n",
       "2    391\n",
       "Name: count, dtype: int64"
      ]
     },
     "execution_count": 27,
     "metadata": {},
     "output_type": "execute_result"
    }
   ],
   "source": [
    "segment_counts = features['Segment'].value_counts().sort_index()\n",
    "segment_counts\n"
   ]
  },
  {
   "cell_type": "markdown",
   "id": "95db590f-c1e8-4ca2-bf25-76ab30b8efb7",
   "metadata": {},
   "source": [
    "# Step 4.3: Add segment size to segment profile table for better understanding"
   ]
  },
  {
   "cell_type": "code",
   "execution_count": 28,
   "id": "8475d743-6144-46b1-a6f8-fc69efe60bb6",
   "metadata": {},
   "outputs": [
    {
     "data": {
      "text/html": [
       "<div>\n",
       "<style scoped>\n",
       "    .dataframe tbody tr th:only-of-type {\n",
       "        vertical-align: middle;\n",
       "    }\n",
       "\n",
       "    .dataframe tbody tr th {\n",
       "        vertical-align: top;\n",
       "    }\n",
       "\n",
       "    .dataframe thead th {\n",
       "        text-align: right;\n",
       "    }\n",
       "</style>\n",
       "<table border=\"1\" class=\"dataframe\">\n",
       "  <thead>\n",
       "    <tr style=\"text-align: right;\">\n",
       "      <th></th>\n",
       "      <th>Gender</th>\n",
       "      <th>Age</th>\n",
       "      <th>Income</th>\n",
       "      <th>Knowledge_Score</th>\n",
       "      <th>Attitude_Score</th>\n",
       "      <th>Practice_Score</th>\n",
       "      <th>Count</th>\n",
       "    </tr>\n",
       "    <tr>\n",
       "      <th>Segment</th>\n",
       "      <th></th>\n",
       "      <th></th>\n",
       "      <th></th>\n",
       "      <th></th>\n",
       "      <th></th>\n",
       "      <th></th>\n",
       "      <th></th>\n",
       "    </tr>\n",
       "  </thead>\n",
       "  <tbody>\n",
       "    <tr>\n",
       "      <th>0</th>\n",
       "      <td>1.69</td>\n",
       "      <td>3.34</td>\n",
       "      <td>1.81</td>\n",
       "      <td>3.58</td>\n",
       "      <td>3.56</td>\n",
       "      <td>3.52</td>\n",
       "      <td>294</td>\n",
       "    </tr>\n",
       "    <tr>\n",
       "      <th>1</th>\n",
       "      <td>1.59</td>\n",
       "      <td>1.97</td>\n",
       "      <td>2.59</td>\n",
       "      <td>4.66</td>\n",
       "      <td>4.67</td>\n",
       "      <td>4.61</td>\n",
       "      <td>438</td>\n",
       "    </tr>\n",
       "    <tr>\n",
       "      <th>2</th>\n",
       "      <td>1.59</td>\n",
       "      <td>2.18</td>\n",
       "      <td>2.69</td>\n",
       "      <td>1.86</td>\n",
       "      <td>1.86</td>\n",
       "      <td>1.84</td>\n",
       "      <td>391</td>\n",
       "    </tr>\n",
       "  </tbody>\n",
       "</table>\n",
       "</div>"
      ],
      "text/plain": [
       "         Gender   Age  Income  Knowledge_Score  Attitude_Score  \\\n",
       "Segment                                                          \n",
       "0          1.69  3.34    1.81             3.58            3.56   \n",
       "1          1.59  1.97    2.59             4.66            4.67   \n",
       "2          1.59  2.18    2.69             1.86            1.86   \n",
       "\n",
       "         Practice_Score  Count  \n",
       "Segment                         \n",
       "0                  3.52    294  \n",
       "1                  4.61    438  \n",
       "2                  1.84    391  "
      ]
     },
     "execution_count": 28,
     "metadata": {},
     "output_type": "execute_result"
    }
   ],
   "source": [
    "segment_profile['Count'] = segment_counts\n",
    "segment_profile\n"
   ]
  },
  {
   "cell_type": "markdown",
   "id": "a216fbc7-6836-407a-b7c9-67b11325dd2a",
   "metadata": {},
   "source": [
    "# Step 4.4: Interpret the segment profiles with size to understand who to target"
   ]
  },
  {
   "cell_type": "code",
   "execution_count": 29,
   "id": "b8f8c6e1-4add-4980-b7b0-b0d6f2c5e705",
   "metadata": {},
   "outputs": [
    {
     "data": {
      "text/html": [
       "<div>\n",
       "<style scoped>\n",
       "    .dataframe tbody tr th:only-of-type {\n",
       "        vertical-align: middle;\n",
       "    }\n",
       "\n",
       "    .dataframe tbody tr th {\n",
       "        vertical-align: top;\n",
       "    }\n",
       "\n",
       "    .dataframe thead th {\n",
       "        text-align: right;\n",
       "    }\n",
       "</style>\n",
       "<table border=\"1\" class=\"dataframe\">\n",
       "  <thead>\n",
       "    <tr style=\"text-align: right;\">\n",
       "      <th></th>\n",
       "      <th>Gender_Label</th>\n",
       "      <th>Age_Label</th>\n",
       "    </tr>\n",
       "    <tr>\n",
       "      <th>Segment</th>\n",
       "      <th></th>\n",
       "      <th></th>\n",
       "    </tr>\n",
       "  </thead>\n",
       "  <tbody>\n",
       "    <tr>\n",
       "      <th>0</th>\n",
       "      <td>Male</td>\n",
       "      <td>Older</td>\n",
       "    </tr>\n",
       "    <tr>\n",
       "      <th>1</th>\n",
       "      <td>Male</td>\n",
       "      <td>Young</td>\n",
       "    </tr>\n",
       "    <tr>\n",
       "      <th>2</th>\n",
       "      <td>Male</td>\n",
       "      <td>Middle-aged</td>\n",
       "    </tr>\n",
       "  </tbody>\n",
       "</table>\n",
       "</div>"
      ],
      "text/plain": [
       "        Gender_Label    Age_Label\n",
       "Segment                          \n",
       "0               Male        Older\n",
       "1               Male        Young\n",
       "2               Male  Middle-aged"
      ]
     },
     "execution_count": 29,
     "metadata": {},
     "output_type": "execute_result"
    }
   ],
   "source": [
    "# Assuming Gender: 1=Male, 2=Female\n",
    "segment_profile['Gender_Label'] = segment_profile['Gender'].apply(lambda x: 'Male' if x < 1.75 else 'Female')\n",
    "\n",
    "# For Age, if it’s coded categories (like 1=youngest, 4=oldest), we can label roughly\n",
    "def age_label(age):\n",
    "    if age < 2:\n",
    "        return 'Young'\n",
    "    elif age < 3:\n",
    "        return 'Middle-aged'\n",
    "    else:\n",
    "        return 'Older'\n",
    "\n",
    "segment_profile['Age_Label'] = segment_profile['Age'].apply(age_label)\n",
    "\n",
    "segment_profile[['Gender_Label', 'Age_Label']]\n"
   ]
  },
  {
   "cell_type": "code",
   "execution_count": 30,
   "id": "333762e4-38ed-4324-8453-322892044f2d",
   "metadata": {},
   "outputs": [
    {
     "data": {
      "text/html": [
       "<div>\n",
       "<style scoped>\n",
       "    .dataframe tbody tr th:only-of-type {\n",
       "        vertical-align: middle;\n",
       "    }\n",
       "\n",
       "    .dataframe tbody tr th {\n",
       "        vertical-align: top;\n",
       "    }\n",
       "\n",
       "    .dataframe thead th {\n",
       "        text-align: right;\n",
       "    }\n",
       "</style>\n",
       "<table border=\"1\" class=\"dataframe\">\n",
       "  <thead>\n",
       "    <tr style=\"text-align: right;\">\n",
       "      <th></th>\n",
       "      <th>Gender_Label</th>\n",
       "      <th>Age_Label</th>\n",
       "      <th>Income</th>\n",
       "      <th>Knowledge_Score</th>\n",
       "      <th>Attitude_Score</th>\n",
       "      <th>Practice_Score</th>\n",
       "      <th>Count</th>\n",
       "    </tr>\n",
       "    <tr>\n",
       "      <th>Segment</th>\n",
       "      <th></th>\n",
       "      <th></th>\n",
       "      <th></th>\n",
       "      <th></th>\n",
       "      <th></th>\n",
       "      <th></th>\n",
       "      <th></th>\n",
       "    </tr>\n",
       "  </thead>\n",
       "  <tbody>\n",
       "    <tr>\n",
       "      <th>0</th>\n",
       "      <td>Male</td>\n",
       "      <td>Older</td>\n",
       "      <td>1.81</td>\n",
       "      <td>3.58</td>\n",
       "      <td>3.56</td>\n",
       "      <td>3.52</td>\n",
       "      <td>294</td>\n",
       "    </tr>\n",
       "    <tr>\n",
       "      <th>1</th>\n",
       "      <td>Male</td>\n",
       "      <td>Young</td>\n",
       "      <td>2.59</td>\n",
       "      <td>4.66</td>\n",
       "      <td>4.67</td>\n",
       "      <td>4.61</td>\n",
       "      <td>438</td>\n",
       "    </tr>\n",
       "    <tr>\n",
       "      <th>2</th>\n",
       "      <td>Male</td>\n",
       "      <td>Middle-aged</td>\n",
       "      <td>2.69</td>\n",
       "      <td>1.86</td>\n",
       "      <td>1.86</td>\n",
       "      <td>1.84</td>\n",
       "      <td>391</td>\n",
       "    </tr>\n",
       "  </tbody>\n",
       "</table>\n",
       "</div>"
      ],
      "text/plain": [
       "        Gender_Label    Age_Label  Income  Knowledge_Score  Attitude_Score  \\\n",
       "Segment                                                                      \n",
       "0               Male        Older    1.81             3.58            3.56   \n",
       "1               Male        Young    2.59             4.66            4.67   \n",
       "2               Male  Middle-aged    2.69             1.86            1.86   \n",
       "\n",
       "         Practice_Score  Count  \n",
       "Segment                         \n",
       "0                  3.52    294  \n",
       "1                  4.61    438  \n",
       "2                  1.84    391  "
      ]
     },
     "execution_count": 30,
     "metadata": {},
     "output_type": "execute_result"
    }
   ],
   "source": [
    "summary = segment_profile[['Gender_Label', 'Age_Label', 'Income', 'Knowledge_Score', 'Attitude_Score', 'Practice_Score', 'Count']]\n",
    "summary\n"
   ]
  },
  {
   "cell_type": "code",
   "execution_count": 31,
   "id": "ee5a0b6e-9a94-4459-a172-2d6ff22e093f",
   "metadata": {},
   "outputs": [
    {
     "name": "stdout",
     "output_type": "stream",
     "text": [
      "Segment 0:\n",
      "  - Demographics: Older Male with income level 1.81\n",
      "  - EV Knowledge Score: 3.58\n",
      "  - EV Attitude Score: 3.56\n",
      "  - EV Practice Score: 3.52\n",
      "  - Segment Size: 294\n",
      "\n",
      "Segment 1:\n",
      "  - Demographics: Young Male with income level 2.59\n",
      "  - EV Knowledge Score: 4.66\n",
      "  - EV Attitude Score: 4.67\n",
      "  - EV Practice Score: 4.61\n",
      "  - Segment Size: 438\n",
      "\n",
      "Segment 2:\n",
      "  - Demographics: Middle-aged Male with income level 2.69\n",
      "  - EV Knowledge Score: 1.86\n",
      "  - EV Attitude Score: 1.86\n",
      "  - EV Practice Score: 1.84\n",
      "  - Segment Size: 391\n",
      "\n"
     ]
    }
   ],
   "source": [
    "for i, row in summary.iterrows():\n",
    "    print(f\"Segment {i}:\")\n",
    "    print(f\"  - Demographics: {row['Age_Label']} {row['Gender_Label']} with income level {row['Income']}\")\n",
    "    print(f\"  - EV Knowledge Score: {row['Knowledge_Score']}\")\n",
    "    print(f\"  - EV Attitude Score: {row['Attitude_Score']}\")\n",
    "    print(f\"  - EV Practice Score: {row['Practice_Score']}\")\n",
    "    print(f\"  - Segment Size: {row['Count']}\")\n",
    "    print()\n"
   ]
  },
  {
   "cell_type": "markdown",
   "id": "9d93dc00-cc45-40bc-b2fb-d75ae85d5f21",
   "metadata": {},
   "source": [
    "# In this step, we analyzed the characteristics of the three customer segments identified through clustering to understand their demographics, EV knowledge, attitudes, and adoption behaviors.\n",
    "\n",
    "# Segment 0: Comprised mostly of older males with lower income levels. They exhibit moderate knowledge, attitude, and practice scores towards EV adoption, indicating potential interest but limited current engagement.\n",
    "\n",
    "# Segment 1: The largest segment of young males with medium-high income. This group has the highest scores in EV knowledge, positive attitude, and adoption behaviors, making them the most promising early adopters for EV marketing and sales efforts.\n",
    "\n",
    "# Segment 2: Consists of middle-aged males with the highest income but very low knowledge, attitude, and practice scores related to EVs. This segment currently shows the least engagement and would require focused awareness and educational initiatives to convert.\n",
    "\n",
    "# Conclusion: Segment 1 is identified as the primary target market for immediate EV sales due to their readiness and enthusiasm. Segments 0 and 2 represent secondary markets with growth potential through increased education and marketing efforts."
   ]
  },
  {
   "cell_type": "markdown",
   "id": "0cc480a2-f84f-4b83-ba9a-e43e5ac0ba17",
   "metadata": {},
   "source": [
    "# Strategic Market Entry Recommendation\n",
    "\n",
    "# To successfully enter the Indian EV market, the startup should:\n",
    "\n",
    "# Focus initial product development on electric scooters and e-rickshaws, as these vehicle types have the strongest market demand and profitability.\n",
    "\n",
    "# Target marketing and sales primarily at Segment 1 (young, medium-high income males) who are already knowledgeable and positive about EVs, ensuring quicker adoption and market traction.\n",
    "\n",
    "# Implement educational campaigns and incentives to grow interest in Segments 0 and 2, broadening the market over time.\n",
    "\n",
    "# Leverage geographic demand hotspots (Uttar Pradesh, Maharashtra, Karnataka) to concentrate initial sales and promotional efforts.\n",
    "\n",
    "# By combining vehicle-type preferences with customer segmentation insights, the startup can optimize its product offerings and marketing strategy to capture high-potential early adopters and build a scalable EV customer base in India.\n",
    "\n"
   ]
  }
 ],
 "metadata": {
  "kernelspec": {
   "display_name": "Python 3 (ipykernel)",
   "language": "python",
   "name": "python3"
  },
  "language_info": {
   "codemirror_mode": {
    "name": "ipython",
    "version": 3
   },
   "file_extension": ".py",
   "mimetype": "text/x-python",
   "name": "python",
   "nbconvert_exporter": "python",
   "pygments_lexer": "ipython3",
   "version": "3.12.7"
  }
 },
 "nbformat": 4,
 "nbformat_minor": 5
}
